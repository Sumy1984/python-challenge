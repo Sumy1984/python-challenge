{
 "cells": [
  {
   "cell_type": "code",
   "execution_count": 13,
   "id": "58b4e4e0",
   "metadata": {},
   "outputs": [],
   "source": [
    "#Dependencies\n",
    "import csv\n",
    "import os\n",
    "from operator import itemgetter\n"
   ]
  },
  {
   "cell_type": "code",
   "execution_count": 19,
   "id": "e3a2467f",
   "metadata": {},
   "outputs": [],
   "source": [
    "#Load files\n",
    "csvpath = os.path.join(\"election_data.csv\")\n",
    "pathout = os.path.join(\"Election Analysis.txt\")\n",
    "\n",
    "#Variables I need to use\n",
    "votes = 0\n",
    "winner_votes = 0\n",
    "total_candidates = 0\n",
    "greatest_votes = [\"\", 0]\n",
    "candidate_options = []\n",
    "candidate_votes = {}"
   ]
  },
  {
   "cell_type": "code",
   "execution_count": 20,
   "id": "67787bc2",
   "metadata": {},
   "outputs": [
    {
     "name": "stdout",
     "output_type": "stream",
     "text": [
      "\n",
      "\n",
      "\n",
      "Election Results\n",
      "-------------------------\n",
      "Total Votes 369711\n",
      "-------------------------\n",
      "Charles Casper Stockham 23% (85213)\n",
      "Diana DeGette 74% (272892)\n",
      "Raymon Anthony Doane 3% (11606)\n"
     ]
    }
   ],
   "source": [
    "#read the data\n",
    "with open(csvpath) as election_data:\n",
    "    reader = csv.DictReader(election_data)\n",
    "\n",
    "#Create loop to do work within to find the finish products\n",
    "    for row in reader:\n",
    "        votes = votes + 1\n",
    "        total_candidates = row[\"Candidate\"]\n",
    "        if row[\"Candidate\"] not in candidate_options:\n",
    "            candidate_options.append(row[\"Candidate\"])\n",
    "            candidate_votes[row[\"Candidate\"]] = 1\n",
    "        else:\n",
    "            candidate_votes[row[\"Candidate\"]] = candidate_votes[row[\"Candidate\"]] + 1\n",
    "    #print information\n",
    "print()\n",
    "print()\n",
    "print()\n",
    "print(\"Election Results\")\n",
    "print(\"-------------------------\")\n",
    "print(\"Total Votes \" + str(votes))\n",
    "print(\"-------------------------\")\n",
    "\n",
    "#results\n",
    "for candidate in candidate_votes:\n",
    "        print(candidate + \" \" + str(round(((candidate_votes[candidate]/votes)*100))) + \"%\" + \" (\" + str(candidate_votes[candidate]) + \")\")\n",
    "        candidate_results = (candidate + \" \" + str(round(((candidate_votes[candidate]/votes)*100))) + \"%\" + \" (\" + str(candidate_votes[candidate]) + \")\")\n",
    "        \n",
    "winner = sorted(candidate_votes.items(), key=itemgetter(1), reverse=True)"
   ]
  },
  {
   "cell_type": "code",
   "execution_count": 21,
   "id": "5c7a1076",
   "metadata": {},
   "outputs": [
    {
     "name": "stdout",
     "output_type": "stream",
     "text": [
      "-------------------------\n",
      "Winner: ('Diana DeGette', 272892)\n",
      "-------------------------\n"
     ]
    }
   ],
   "source": [
    "#results\n",
    "print(\"-------------------------\")\n",
    "print(\"Winner: \" + str(winner[0]))\n",
    "print(\"-------------------------\")\n"
   ]
  },
  {
   "cell_type": "code",
   "execution_count": 22,
   "id": "778dbb12",
   "metadata": {},
   "outputs": [],
   "source": [
    "# Output Files\n",
    "with open(pathout, \"w\") as txt_file:\n",
    "    \n",
    "    txt_file.write(\"Election Results\")\n",
    "    txt_file.write(\"\\n\")\n",
    "    txt_file.write(\"-------------------------\")\n",
    "    txt_file.write(\"\\n\")\n",
    "    #txt_file.write(candidate + \" \" + str(round(((candidate_votes[candidate]/votes)*100))) + \"%\" + \" (\" + str(candidate_votes[candidate]) + \")\")\n",
    "    txt_file.write(str(winner))\n",
    "    txt_file.write(\"\\n\")\n",
    "    txt_file.write(\"-------------------------\")\n",
    "    txt_file.write(\"\\n\")\n",
    "    txt_file.write(\"Winner: \" + str(winner[0]))\n",
    "    txt_file.write(\"\\n\")\n",
    "    txt_file.write(\"Total Votes \" + str(votes))\n",
    "\n",
    "    \n"
   ]
  },
  {
   "cell_type": "code",
   "execution_count": null,
   "id": "69bbf6e3",
   "metadata": {},
   "outputs": [],
   "source": []
  }
 ],
 "metadata": {
  "kernelspec": {
   "display_name": "my_base",
   "language": "python",
   "name": "base"
  },
  "language_info": {
   "codemirror_mode": {
    "name": "ipython",
    "version": 3
   },
   "file_extension": ".py",
   "mimetype": "text/x-python",
   "name": "python",
   "nbconvert_exporter": "python",
   "pygments_lexer": "ipython3",
   "version": "3.9.13"
  }
 },
 "nbformat": 4,
 "nbformat_minor": 5
}
